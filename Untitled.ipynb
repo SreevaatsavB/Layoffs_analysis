{
 "cells": [
  {
   "cell_type": "code",
   "execution_count": 2,
   "id": "12104db5",
   "metadata": {},
   "outputs": [],
   "source": [
    "import pandas as pd\n",
    "from geopy.geocoders import Nominatim\n",
    "from geopy.exc import GeocoderTimedOut\n",
    "import time\n",
    "\n",
    "fp = '/Users/sreevaatsav/Downloads/only_locs_processed.csv'\n",
    "\n",
    "location_df = pd.read_csv(fp)"
   ]
  },
  {
   "cell_type": "code",
   "execution_count": 8,
   "id": "47f10287",
   "metadata": {},
   "outputs": [],
   "source": [
    "# for loc in location_df.iloc[:100][\"location\"]:\n",
    "#     print(loc)"
   ]
  },
  {
   "cell_type": "code",
   "execution_count": 15,
   "id": "bfd65e02",
   "metadata": {},
   "outputs": [
    {
     "name": "stdout",
     "output_type": "stream",
     "text": [
      "0\n",
      "---  0.02099458376566569  mins\n",
      "9000\n",
      "---  20.321550949414572  mins\n",
      "10000\n",
      "---  5.249699433644612  mins\n",
      "12000\n",
      "---  10.089952969551087  mins\n",
      "15000\n",
      "---  16.296577417850493  mins\n",
      "16000\n",
      "---  51.10163534879685  mins\n",
      "17000\n",
      "---  5.524455281098684  mins\n",
      "18000\n",
      "---  3.9124923507372538  mins\n",
      "19000\n",
      "---  3.532238845030467  mins\n",
      "21000\n",
      "---  6.624109168847402  mins\n",
      "28000\n",
      "---  17.236233619848885  mins\n",
      "31000\n",
      "---  7.219040882587433  mins\n",
      "36000\n",
      "---  9.836735848585764  mins\n",
      "38000\n",
      "---  6.951264178752899  mins\n",
      "43000\n",
      "---  15.29552220106125  mins\n",
      "46000\n",
      "---  13.461363848050436  mins\n",
      "50000\n",
      "---  23.47339648405711  mins\n",
      "51000\n",
      "---  5.671937012672425  mins\n",
      "54000\n",
      "---  13.5479226231575  mins\n",
      "55000\n",
      "---  4.815741654237112  mins\n",
      "\n",
      "242.36836385329565  mins\n"
     ]
    }
   ],
   "source": [
    "\n",
    "# Create a Nominatim geocoder instance\n",
    "# geolocator = Nominatim(user_agent='my-application')\n",
    "geolocator = Nominatim(user_agent=\"http\")\n",
    "\n",
    "# Define a function to get the location information for a given address\n",
    "s = time.time()\n",
    "def get_location_info(address):\n",
    "    location = geolocator.geocode(address, timeout=10)\n",
    "    if location is None:\n",
    "        return None, None\n",
    "    \n",
    "    return location.latitude, location.longitude\n",
    "\n",
    "# Clean and extract the location information for each row in the dataframe\n",
    "latitudes = []\n",
    "longitudes = []\n",
    "\n",
    "\n",
    "i = 0\n",
    "s1 = time.time()\n",
    "for i in range(len(location_df)):\n",
    "    loc =  location_df.iloc[i][\"location\"]\n",
    "    \n",
    "    if isinstance(loc, str):\n",
    "        # Clean the location string\n",
    "        loc = loc.strip()\n",
    "        if len(loc) > 0:\n",
    "            \n",
    "            # Get the location information\n",
    "            lat, lon = get_location_info(loc)\n",
    "\n",
    "            latitudes.append(lat)\n",
    "            longitudes.append(lon)\n",
    "            \n",
    "            if i%1000 == 0:\n",
    "                e1 = time.time()\n",
    "                print(i)\n",
    "                print(\"--- \",(e1-s1)/60, \" mins\")\n",
    "                s1 = time.time()\n",
    "            \n",
    "            i += 1\n",
    "            \n",
    "    else:\n",
    "        latitudes.append(None)\n",
    "        longitudes.append(None)\n",
    "        \n",
    "e = time.time()\n",
    "print()\n",
    "print((e-s)/60, \" mins\")"
   ]
  },
  {
   "cell_type": "code",
   "execution_count": 16,
   "id": "dd2cdf34",
   "metadata": {},
   "outputs": [
    {
     "data": {
      "text/plain": [
       "(55400, 55400)"
      ]
     },
     "execution_count": 16,
     "metadata": {},
     "output_type": "execute_result"
    }
   ],
   "source": [
    "len(latitudes), len(longitudes)"
   ]
  },
  {
   "cell_type": "code",
   "execution_count": 17,
   "id": "02739f2f",
   "metadata": {},
   "outputs": [
    {
     "data": {
      "text/plain": [
       "55400"
      ]
     },
     "execution_count": 17,
     "metadata": {},
     "output_type": "execute_result"
    }
   ],
   "source": [
    "# latitudes\n",
    "len(location_df)"
   ]
  },
  {
   "cell_type": "code",
   "execution_count": 18,
   "id": "f7a9f2ce",
   "metadata": {},
   "outputs": [],
   "source": [
    "long_df = pd.DataFrame(longitudes)\n",
    "lat_df = pd.DataFrame(latitudes)"
   ]
  },
  {
   "cell_type": "code",
   "execution_count": 28,
   "id": "aa9e3923",
   "metadata": {},
   "outputs": [],
   "source": [
    "coord_df = pd.concat([location_df,long_df, lat_df], axis=1)"
   ]
  },
  {
   "cell_type": "code",
   "execution_count": 30,
   "id": "0209d54e",
   "metadata": {},
   "outputs": [],
   "source": [
    "del coord_df[\"Unnamed: 0\"]"
   ]
  },
  {
   "cell_type": "code",
   "execution_count": 31,
   "id": "d9bc6a3d",
   "metadata": {},
   "outputs": [],
   "source": [
    "coord_df.columns = [\"location\",\"long\",\"lat\"]"
   ]
  },
  {
   "cell_type": "code",
   "execution_count": 32,
   "id": "fef83e98",
   "metadata": {},
   "outputs": [
    {
     "data": {
      "text/html": [
       "<div>\n",
       "<style scoped>\n",
       "    .dataframe tbody tr th:only-of-type {\n",
       "        vertical-align: middle;\n",
       "    }\n",
       "\n",
       "    .dataframe tbody tr th {\n",
       "        vertical-align: top;\n",
       "    }\n",
       "\n",
       "    .dataframe thead th {\n",
       "        text-align: right;\n",
       "    }\n",
       "</style>\n",
       "<table border=\"1\" class=\"dataframe\">\n",
       "  <thead>\n",
       "    <tr style=\"text-align: right;\">\n",
       "      <th></th>\n",
       "      <th>location</th>\n",
       "      <th>long</th>\n",
       "      <th>lat</th>\n",
       "    </tr>\n",
       "  </thead>\n",
       "  <tbody>\n",
       "    <tr>\n",
       "      <th>0</th>\n",
       "      <td>Saltwater Gospel</td>\n",
       "      <td>NaN</td>\n",
       "      <td>NaN</td>\n",
       "    </tr>\n",
       "    <tr>\n",
       "      <th>1</th>\n",
       "      <td>NaN</td>\n",
       "      <td>NaN</td>\n",
       "      <td>NaN</td>\n",
       "    </tr>\n",
       "    <tr>\n",
       "      <th>2</th>\n",
       "      <td>United States</td>\n",
       "      <td>-100.445882</td>\n",
       "      <td>39.783730</td>\n",
       "    </tr>\n",
       "    <tr>\n",
       "      <th>3</th>\n",
       "      <td>Los Angeles</td>\n",
       "      <td>-118.242766</td>\n",
       "      <td>34.053691</td>\n",
       "    </tr>\n",
       "    <tr>\n",
       "      <th>4</th>\n",
       "      <td>Ann Arbor MI</td>\n",
       "      <td>-83.731229</td>\n",
       "      <td>42.268157</td>\n",
       "    </tr>\n",
       "    <tr>\n",
       "      <th>...</th>\n",
       "      <td>...</td>\n",
       "      <td>...</td>\n",
       "      <td>...</td>\n",
       "    </tr>\n",
       "    <tr>\n",
       "      <th>55395</th>\n",
       "      <td>Chun Zheng De Xi Hai An</td>\n",
       "      <td>NaN</td>\n",
       "      <td>NaN</td>\n",
       "    </tr>\n",
       "    <tr>\n",
       "      <th>55396</th>\n",
       "      <td>NaN</td>\n",
       "      <td>NaN</td>\n",
       "      <td>NaN</td>\n",
       "    </tr>\n",
       "    <tr>\n",
       "      <th>55397</th>\n",
       "      <td>Montreal QC Canada</td>\n",
       "      <td>-73.569806</td>\n",
       "      <td>45.503182</td>\n",
       "    </tr>\n",
       "    <tr>\n",
       "      <th>55398</th>\n",
       "      <td>TRANSPARENCY</td>\n",
       "      <td>-1.941055</td>\n",
       "      <td>52.411795</td>\n",
       "    </tr>\n",
       "    <tr>\n",
       "      <th>55399</th>\n",
       "      <td>California USA</td>\n",
       "      <td>-118.755997</td>\n",
       "      <td>36.701463</td>\n",
       "    </tr>\n",
       "  </tbody>\n",
       "</table>\n",
       "<p>55400 rows × 3 columns</p>\n",
       "</div>"
      ],
      "text/plain": [
       "                      location        long        lat\n",
       "0             Saltwater Gospel         NaN        NaN\n",
       "1                          NaN         NaN        NaN\n",
       "2                United States -100.445882  39.783730\n",
       "3                  Los Angeles -118.242766  34.053691\n",
       "4                 Ann Arbor MI  -83.731229  42.268157\n",
       "...                        ...         ...        ...\n",
       "55395  Chun Zheng De Xi Hai An         NaN        NaN\n",
       "55396                      NaN         NaN        NaN\n",
       "55397       Montreal QC Canada  -73.569806  45.503182\n",
       "55398             TRANSPARENCY   -1.941055  52.411795\n",
       "55399           California USA -118.755997  36.701463\n",
       "\n",
       "[55400 rows x 3 columns]"
      ]
     },
     "execution_count": 32,
     "metadata": {},
     "output_type": "execute_result"
    }
   ],
   "source": [
    "coord_df"
   ]
  },
  {
   "cell_type": "code",
   "execution_count": 33,
   "id": "c192d2af",
   "metadata": {},
   "outputs": [
    {
     "data": {
      "text/html": [
       "<div>\n",
       "<style scoped>\n",
       "    .dataframe tbody tr th:only-of-type {\n",
       "        vertical-align: middle;\n",
       "    }\n",
       "\n",
       "    .dataframe tbody tr th {\n",
       "        vertical-align: top;\n",
       "    }\n",
       "\n",
       "    .dataframe thead th {\n",
       "        text-align: right;\n",
       "    }\n",
       "</style>\n",
       "<table border=\"1\" class=\"dataframe\">\n",
       "  <thead>\n",
       "    <tr style=\"text-align: right;\">\n",
       "      <th></th>\n",
       "      <th>location</th>\n",
       "      <th>long</th>\n",
       "      <th>lat</th>\n",
       "    </tr>\n",
       "  </thead>\n",
       "  <tbody>\n",
       "    <tr>\n",
       "      <th>0</th>\n",
       "      <td>Saltwater Gospel</td>\n",
       "      <td>NaN</td>\n",
       "      <td>NaN</td>\n",
       "    </tr>\n",
       "    <tr>\n",
       "      <th>1</th>\n",
       "      <td>NaN</td>\n",
       "      <td>NaN</td>\n",
       "      <td>NaN</td>\n",
       "    </tr>\n",
       "    <tr>\n",
       "      <th>8</th>\n",
       "      <td>NaN</td>\n",
       "      <td>NaN</td>\n",
       "      <td>NaN</td>\n",
       "    </tr>\n",
       "    <tr>\n",
       "      <th>12</th>\n",
       "      <td>&lt;CUR&gt;17k MRR</td>\n",
       "      <td>NaN</td>\n",
       "      <td>NaN</td>\n",
       "    </tr>\n",
       "    <tr>\n",
       "      <th>17</th>\n",
       "      <td>NaN</td>\n",
       "      <td>NaN</td>\n",
       "      <td>NaN</td>\n",
       "    </tr>\n",
       "    <tr>\n",
       "      <th>...</th>\n",
       "      <td>...</td>\n",
       "      <td>...</td>\n",
       "      <td>...</td>\n",
       "    </tr>\n",
       "    <tr>\n",
       "      <th>55385</th>\n",
       "      <td>NaN</td>\n",
       "      <td>NaN</td>\n",
       "      <td>NaN</td>\n",
       "    </tr>\n",
       "    <tr>\n",
       "      <th>55389</th>\n",
       "      <td>NaN</td>\n",
       "      <td>NaN</td>\n",
       "      <td>NaN</td>\n",
       "    </tr>\n",
       "    <tr>\n",
       "      <th>55392</th>\n",
       "      <td>NaN</td>\n",
       "      <td>NaN</td>\n",
       "      <td>NaN</td>\n",
       "    </tr>\n",
       "    <tr>\n",
       "      <th>55395</th>\n",
       "      <td>Chun Zheng De Xi Hai An</td>\n",
       "      <td>NaN</td>\n",
       "      <td>NaN</td>\n",
       "    </tr>\n",
       "    <tr>\n",
       "      <th>55396</th>\n",
       "      <td>NaN</td>\n",
       "      <td>NaN</td>\n",
       "      <td>NaN</td>\n",
       "    </tr>\n",
       "  </tbody>\n",
       "</table>\n",
       "<p>35072 rows × 3 columns</p>\n",
       "</div>"
      ],
      "text/plain": [
       "                      location  long  lat\n",
       "0             Saltwater Gospel   NaN  NaN\n",
       "1                          NaN   NaN  NaN\n",
       "8                          NaN   NaN  NaN\n",
       "12                <CUR>17k MRR   NaN  NaN\n",
       "17                         NaN   NaN  NaN\n",
       "...                        ...   ...  ...\n",
       "55385                      NaN   NaN  NaN\n",
       "55389                      NaN   NaN  NaN\n",
       "55392                      NaN   NaN  NaN\n",
       "55395  Chun Zheng De Xi Hai An   NaN  NaN\n",
       "55396                      NaN   NaN  NaN\n",
       "\n",
       "[35072 rows x 3 columns]"
      ]
     },
     "execution_count": 33,
     "metadata": {},
     "output_type": "execute_result"
    }
   ],
   "source": [
    "coord_df[coord_df[\"long\"].isna()]"
   ]
  },
  {
   "cell_type": "code",
   "execution_count": 34,
   "id": "5bf114a0",
   "metadata": {},
   "outputs": [],
   "source": [
    "coord_df.to_csv(\"locations_tweets.csv\")"
   ]
  },
  {
   "cell_type": "code",
   "execution_count": 48,
   "id": "d158f4a4",
   "metadata": {},
   "outputs": [],
   "source": [
    "import time\n",
    "\n",
    "time.sleep(1)"
   ]
  },
  {
   "cell_type": "code",
   "execution_count": null,
   "id": "c8f78e6e",
   "metadata": {},
   "outputs": [],
   "source": [
    "city_arr = []\n",
    "state_arr = []\n",
    "country_arr = []\n",
    "\n",
    "for i in range(len(coord_df)):\n",
    "    \n",
    "    if coord_df.iloc[i][\"long\"] == None:\n",
    "        city_arr.append(None)\n",
    "        state_arr.append(None)\n",
    "        country_arr.append(None)\n",
    "        \n",
    "    else:\n",
    "        \n",
    "        long = coord_df.iloc[i][\"long\"]\n",
    "        lat = coord_df.iloc[i][\"lat\"]\n",
    "        \n",
    "        try:\n",
    "            location = geocoder.osm([lat, long], method='reverse')\n",
    "        \n",
    "            city_arr.append(location.city)\n",
    "            state_arr.append(location.state)\n",
    "            country_arr.append(location.country)\n",
    "        \n",
    "        except:\n",
    "            city_arr.append(None)\n",
    "            state_arr.append(None)\n",
    "            country_arr.append(None)\n"
   ]
  },
  {
   "cell_type": "code",
   "execution_count": null,
   "id": "8fce82cb",
   "metadata": {},
   "outputs": [],
   "source": [
    "city_arr"
   ]
  },
  {
   "cell_type": "code",
   "execution_count": null,
   "id": "658fd469",
   "metadata": {},
   "outputs": [],
   "source": []
  },
  {
   "cell_type": "code",
   "execution_count": 43,
   "id": "4a6b10bc",
   "metadata": {},
   "outputs": [
    {
     "name": "stdout",
     "output_type": "stream",
     "text": [
      "City: Seattle\n",
      "City: Washington\n",
      "Country: United States\n"
     ]
    }
   ],
   "source": [
    "import geocoder\n",
    "import reverse_geocode as rg\n",
    "\n",
    "# Example latitude and longitude coordinates\n",
    "latitude = 47.6062\n",
    "longitude = -122.3321\n",
    "\n",
    "# Use geocoder to get the city and country names\n",
    "location = geocoder.osm([latitude, longitude], method='reverse')\n",
    "\n",
    "# Use reverse_geocode to get the state name\n",
    "# state = reverse_geocode(latitude, longitude)[0]['state']\n",
    "\n",
    "# Print the results\n",
    "print('City:', location.city)\n",
    "print('City:', location.state)\n",
    "print('Country:', location.country)\n",
    "location.\n",
    "# print('State:', state)"
   ]
  },
  {
   "cell_type": "code",
   "execution_count": 44,
   "id": "d0650ce0",
   "metadata": {},
   "outputs": [
    {
     "ename": "FileNotFoundError",
     "evalue": "[Errno 2] No such file or directory: '/Users/sreevaatsav/.pyenv/versions/project_env/lib/python3.10/site-packages/reverse_geocode/countries.csv'",
     "output_type": "error",
     "traceback": [
      "\u001b[0;31m---------------------------------------------------------------------------\u001b[0m",
      "\u001b[0;31mFileNotFoundError\u001b[0m                         Traceback (most recent call last)",
      "Cell \u001b[0;32mIn[44], line 1\u001b[0m\n\u001b[0;32m----> 1\u001b[0m \u001b[43mrg\u001b[49m\u001b[38;5;241;43m.\u001b[39;49m\u001b[43msearch\u001b[49m\u001b[43m(\u001b[49m\u001b[43m(\u001b[49m\u001b[38;5;241;43m47.6062\u001b[39;49m\u001b[43m,\u001b[49m\u001b[43m \u001b[49m\u001b[38;5;241;43m-\u001b[39;49m\u001b[38;5;241;43m122.3321\u001b[39;49m\u001b[43m)\u001b[49m\u001b[43m)\u001b[49m\n",
      "File \u001b[0;32m~/.pyenv/versions/project_env/lib/python3.10/site-packages/reverse_geocode/__init__.py:121\u001b[0m, in \u001b[0;36msearch\u001b[0;34m(coordinates)\u001b[0m\n",
      "File \u001b[0;32m~/.pyenv/versions/project_env/lib/python3.10/site-packages/reverse_geocode/__init__.py:25\u001b[0m, in \u001b[0;36mgetinstance\u001b[0;34m()\u001b[0m\n",
      "File \u001b[0;32m~/.pyenv/versions/project_env/lib/python3.10/site-packages/reverse_geocode/__init__.py:36\u001b[0m, in \u001b[0;36m__init__\u001b[0;34m(self, geocode_filename, country_filename)\u001b[0m\n",
      "File \u001b[0;32m~/.pyenv/versions/project_env/lib/python3.10/site-packages/reverse_geocode/__init__.py:43\u001b[0m, in \u001b[0;36mload_countries\u001b[0;34m(self, country_filename)\u001b[0m\n",
      "\u001b[0;31mFileNotFoundError\u001b[0m: [Errno 2] No such file or directory: '/Users/sreevaatsav/.pyenv/versions/project_env/lib/python3.10/site-packages/reverse_geocode/countries.csv'"
     ]
    }
   ],
   "source": [
    "# rg.search((47.6062, -122.3321))"
   ]
  },
  {
   "cell_type": "code",
   "execution_count": 45,
   "id": "c4d54bba",
   "metadata": {},
   "outputs": [
    {
     "data": {
      "text/plain": [
       "[{'lat': '47.60621',\n",
       "  'lon': '-122.33207',\n",
       "  'name': 'Seattle',\n",
       "  'admin1': 'Washington',\n",
       "  'admin2': 'King County',\n",
       "  'cc': 'US'},\n",
       " {'lat': '51.51116',\n",
       "  'lon': '-0.18426',\n",
       "  'name': 'Bayswater',\n",
       "  'admin1': 'England',\n",
       "  'admin2': 'Greater London',\n",
       "  'cc': 'GB'},\n",
       " {'lat': '9.93988',\n",
       "  'lon': '76.26022',\n",
       "  'name': 'Cochin',\n",
       "  'admin1': 'Kerala',\n",
       "  'admin2': 'Ernakulam',\n",
       "  'cc': 'IN'},\n",
       " {'lat': '37.38605',\n",
       "  'lon': '-122.08385',\n",
       "  'name': 'Mountain View',\n",
       "  'admin1': 'California',\n",
       "  'admin2': 'Santa Clara County',\n",
       "  'cc': 'US'}]"
      ]
     },
     "execution_count": 45,
     "metadata": {},
     "output_type": "execute_result"
    }
   ],
   "source": [
    "import reverse_geocoder as rg\n",
    "coordinates = (47.6062, -122.3321),(51.5214588,-0.1729636),(9.936033, 76.259952),(37.38605,-122.08385)\n",
    "\n",
    "rg.search(coordinates)"
   ]
  },
  {
   "cell_type": "code",
   "execution_count": null,
   "id": "c233c8c5",
   "metadata": {},
   "outputs": [],
   "source": []
  },
  {
   "cell_type": "code",
   "execution_count": null,
   "id": "350abbcc",
   "metadata": {},
   "outputs": [],
   "source": []
  }
 ],
 "metadata": {
  "kernelspec": {
   "display_name": "Python (myenv)",
   "language": "python",
   "name": "my_project_env"
  },
  "language_info": {
   "codemirror_mode": {
    "name": "ipython",
    "version": 3
   },
   "file_extension": ".py",
   "mimetype": "text/x-python",
   "name": "python",
   "nbconvert_exporter": "python",
   "pygments_lexer": "ipython3",
   "version": "3.10.9"
  }
 },
 "nbformat": 4,
 "nbformat_minor": 5
}
