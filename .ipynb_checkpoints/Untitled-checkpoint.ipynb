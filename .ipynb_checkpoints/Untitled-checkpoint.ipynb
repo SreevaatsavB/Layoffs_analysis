{
 "cells": [
  {
   "cell_type": "code",
   "execution_count": 2,
   "id": "b57c6322",
   "metadata": {},
   "outputs": [],
   "source": [
    "import pandas as pd\n",
    "from geopy.geocoders import Nominatim\n",
    "from geopy.exc import GeocoderTimedOut\n",
    "import time\n",
    "\n",
    "fp = '/Users/sreevaatsav/Downloads/only_locs_processed.csv'\n",
    "\n",
    "location_df = pd.read_csv(fp)"
   ]
  },
  {
   "cell_type": "code",
   "execution_count": 8,
   "id": "c28c1513",
   "metadata": {},
   "outputs": [],
   "source": [
    "# for loc in location_df.iloc[:100][\"location\"]:\n",
    "#     print(loc)"
   ]
  },
  {
   "cell_type": "code",
   "execution_count": 15,
   "id": "9bc88d9c",
   "metadata": {},
   "outputs": [
    {
     "name": "stdout",
     "output_type": "stream",
     "text": [
      "0\n",
      "---  0.02099458376566569  mins\n",
      "9000\n",
      "---  20.321550949414572  mins\n",
      "10000\n",
      "---  5.249699433644612  mins\n",
      "12000\n",
      "---  10.089952969551087  mins\n",
      "15000\n",
      "---  16.296577417850493  mins\n",
      "16000\n",
      "---  51.10163534879685  mins\n",
      "17000\n",
      "---  5.524455281098684  mins\n",
      "18000\n",
      "---  3.9124923507372538  mins\n",
      "19000\n",
      "---  3.532238845030467  mins\n",
      "21000\n",
      "---  6.624109168847402  mins\n",
      "28000\n",
      "---  17.236233619848885  mins\n",
      "31000\n",
      "---  7.219040882587433  mins\n",
      "36000\n",
      "---  9.836735848585764  mins\n",
      "38000\n",
      "---  6.951264178752899  mins\n",
      "43000\n",
      "---  15.29552220106125  mins\n",
      "46000\n",
      "---  13.461363848050436  mins\n",
      "50000\n",
      "---  23.47339648405711  mins\n",
      "51000\n",
      "---  5.671937012672425  mins\n",
      "54000\n",
      "---  13.5479226231575  mins\n",
      "55000\n",
      "---  4.815741654237112  mins\n",
      "\n",
      "242.36836385329565  mins\n"
     ]
    }
   ],
   "source": [
    "\n",
    "# Create a Nominatim geocoder instance\n",
    "# geolocator = Nominatim(user_agent='my-application')\n",
    "geolocator = Nominatim(user_agent=\"http\")\n",
    "\n",
    "# Define a function to get the location information for a given address\n",
    "s = time.time()\n",
    "def get_location_info(address):\n",
    "    location = geolocator.geocode(address, timeout=10)\n",
    "    if location is None:\n",
    "        return None, None\n",
    "    \n",
    "    return location.latitude, location.longitude\n",
    "\n",
    "# Clean and extract the location information for each row in the dataframe\n",
    "latitudes = []\n",
    "longitudes = []\n",
    "\n",
    "\n",
    "i = 0\n",
    "s1 = time.time()\n",
    "for i in range(len(location_df)):\n",
    "    loc =  location_df.iloc[i][\"location\"]\n",
    "    \n",
    "    if isinstance(loc, str):\n",
    "        # Clean the location string\n",
    "        loc = loc.strip()\n",
    "        if len(loc) > 0:\n",
    "            \n",
    "            # Get the location information\n",
    "            lat, lon = get_location_info(loc)\n",
    "\n",
    "            latitudes.append(lat)\n",
    "            longitudes.append(lon)\n",
    "            \n",
    "            if i%1000 == 0:\n",
    "                e1 = time.time()\n",
    "                print(i)\n",
    "                print(\"--- \",(e1-s1)/60, \" mins\")\n",
    "                s1 = time.time()\n",
    "            \n",
    "            i += 1\n",
    "            \n",
    "    else:\n",
    "        latitudes.append(None)\n",
    "        longitudes.append(None)\n",
    "        \n",
    "e = time.time()\n",
    "print()\n",
    "print((e-s)/60, \" mins\")"
   ]
  },
  {
   "cell_type": "code",
   "execution_count": 16,
   "id": "c5815983",
   "metadata": {},
   "outputs": [
    {
     "data": {
      "text/plain": [
       "(55400, 55400)"
      ]
     },
     "execution_count": 16,
     "metadata": {},
     "output_type": "execute_result"
    }
   ],
   "source": [
    "len(latitudes), len(longitudes)"
   ]
  },
  {
   "cell_type": "code",
   "execution_count": 17,
   "id": "80776a82",
   "metadata": {},
   "outputs": [
    {
     "data": {
      "text/plain": [
       "55400"
      ]
     },
     "execution_count": 17,
     "metadata": {},
     "output_type": "execute_result"
    }
   ],
   "source": [
    "# latitudes\n",
    "len(location_df)"
   ]
  },
  {
   "cell_type": "code",
   "execution_count": 18,
   "id": "4257970c",
   "metadata": {},
   "outputs": [],
   "source": [
    "long_df = pd.DataFrame(longitudes)\n",
    "lat_df = pd.DataFrame(latitudes)"
   ]
  },
  {
   "cell_type": "code",
   "execution_count": 28,
   "id": "5d7bceb9",
   "metadata": {},
   "outputs": [],
   "source": [
    "coord_df = pd.concat([location_df,long_df, lat_df], axis=1)"
   ]
  },
  {
   "cell_type": "code",
   "execution_count": 30,
   "id": "a175f4c7",
   "metadata": {},
   "outputs": [],
   "source": [
    "del coord_df[\"Unnamed: 0\"]"
   ]
  },
  {
   "cell_type": "code",
   "execution_count": 31,
   "id": "e572e889",
   "metadata": {},
   "outputs": [],
   "source": [
    "coord_df.columns = [\"location\",\"long\",\"lat\"]"
   ]
  },
  {
   "cell_type": "code",
   "execution_count": 32,
   "id": "49483d3c",
   "metadata": {},
   "outputs": [
    {
     "data": {
      "text/html": [
       "<div>\n",
       "<style scoped>\n",
       "    .dataframe tbody tr th:only-of-type {\n",
       "        vertical-align: middle;\n",
       "    }\n",
       "\n",
       "    .dataframe tbody tr th {\n",
       "        vertical-align: top;\n",
       "    }\n",
       "\n",
       "    .dataframe thead th {\n",
       "        text-align: right;\n",
       "    }\n",
       "</style>\n",
       "<table border=\"1\" class=\"dataframe\">\n",
       "  <thead>\n",
       "    <tr style=\"text-align: right;\">\n",
       "      <th></th>\n",
       "      <th>location</th>\n",
       "      <th>long</th>\n",
       "      <th>lat</th>\n",
       "    </tr>\n",
       "  </thead>\n",
       "  <tbody>\n",
       "    <tr>\n",
       "      <th>0</th>\n",
       "      <td>Saltwater Gospel</td>\n",
       "      <td>NaN</td>\n",
       "      <td>NaN</td>\n",
       "    </tr>\n",
       "    <tr>\n",
       "      <th>1</th>\n",
       "      <td>NaN</td>\n",
       "      <td>NaN</td>\n",
       "      <td>NaN</td>\n",
       "    </tr>\n",
       "    <tr>\n",
       "      <th>2</th>\n",
       "      <td>United States</td>\n",
       "      <td>-100.445882</td>\n",
       "      <td>39.783730</td>\n",
       "    </tr>\n",
       "    <tr>\n",
       "      <th>3</th>\n",
       "      <td>Los Angeles</td>\n",
       "      <td>-118.242766</td>\n",
       "      <td>34.053691</td>\n",
       "    </tr>\n",
       "    <tr>\n",
       "      <th>4</th>\n",
       "      <td>Ann Arbor MI</td>\n",
       "      <td>-83.731229</td>\n",
       "      <td>42.268157</td>\n",
       "    </tr>\n",
       "    <tr>\n",
       "      <th>...</th>\n",
       "      <td>...</td>\n",
       "      <td>...</td>\n",
       "      <td>...</td>\n",
       "    </tr>\n",
       "    <tr>\n",
       "      <th>55395</th>\n",
       "      <td>Chun Zheng De Xi Hai An</td>\n",
       "      <td>NaN</td>\n",
       "      <td>NaN</td>\n",
       "    </tr>\n",
       "    <tr>\n",
       "      <th>55396</th>\n",
       "      <td>NaN</td>\n",
       "      <td>NaN</td>\n",
       "      <td>NaN</td>\n",
       "    </tr>\n",
       "    <tr>\n",
       "      <th>55397</th>\n",
       "      <td>Montreal QC Canada</td>\n",
       "      <td>-73.569806</td>\n",
       "      <td>45.503182</td>\n",
       "    </tr>\n",
       "    <tr>\n",
       "      <th>55398</th>\n",
       "      <td>TRANSPARENCY</td>\n",
       "      <td>-1.941055</td>\n",
       "      <td>52.411795</td>\n",
       "    </tr>\n",
       "    <tr>\n",
       "      <th>55399</th>\n",
       "      <td>California USA</td>\n",
       "      <td>-118.755997</td>\n",
       "      <td>36.701463</td>\n",
       "    </tr>\n",
       "  </tbody>\n",
       "</table>\n",
       "<p>55400 rows × 3 columns</p>\n",
       "</div>"
      ],
      "text/plain": [
       "                      location        long        lat\n",
       "0             Saltwater Gospel         NaN        NaN\n",
       "1                          NaN         NaN        NaN\n",
       "2                United States -100.445882  39.783730\n",
       "3                  Los Angeles -118.242766  34.053691\n",
       "4                 Ann Arbor MI  -83.731229  42.268157\n",
       "...                        ...         ...        ...\n",
       "55395  Chun Zheng De Xi Hai An         NaN        NaN\n",
       "55396                      NaN         NaN        NaN\n",
       "55397       Montreal QC Canada  -73.569806  45.503182\n",
       "55398             TRANSPARENCY   -1.941055  52.411795\n",
       "55399           California USA -118.755997  36.701463\n",
       "\n",
       "[55400 rows x 3 columns]"
      ]
     },
     "execution_count": 32,
     "metadata": {},
     "output_type": "execute_result"
    }
   ],
   "source": [
    "coord_df"
   ]
  },
  {
   "cell_type": "code",
   "execution_count": 33,
   "id": "92064174",
   "metadata": {},
   "outputs": [
    {
     "data": {
      "text/html": [
       "<div>\n",
       "<style scoped>\n",
       "    .dataframe tbody tr th:only-of-type {\n",
       "        vertical-align: middle;\n",
       "    }\n",
       "\n",
       "    .dataframe tbody tr th {\n",
       "        vertical-align: top;\n",
       "    }\n",
       "\n",
       "    .dataframe thead th {\n",
       "        text-align: right;\n",
       "    }\n",
       "</style>\n",
       "<table border=\"1\" class=\"dataframe\">\n",
       "  <thead>\n",
       "    <tr style=\"text-align: right;\">\n",
       "      <th></th>\n",
       "      <th>location</th>\n",
       "      <th>long</th>\n",
       "      <th>lat</th>\n",
       "    </tr>\n",
       "  </thead>\n",
       "  <tbody>\n",
       "    <tr>\n",
       "      <th>0</th>\n",
       "      <td>Saltwater Gospel</td>\n",
       "      <td>NaN</td>\n",
       "      <td>NaN</td>\n",
       "    </tr>\n",
       "    <tr>\n",
       "      <th>1</th>\n",
       "      <td>NaN</td>\n",
       "      <td>NaN</td>\n",
       "      <td>NaN</td>\n",
       "    </tr>\n",
       "    <tr>\n",
       "      <th>8</th>\n",
       "      <td>NaN</td>\n",
       "      <td>NaN</td>\n",
       "      <td>NaN</td>\n",
       "    </tr>\n",
       "    <tr>\n",
       "      <th>12</th>\n",
       "      <td>&lt;CUR&gt;17k MRR</td>\n",
       "      <td>NaN</td>\n",
       "      <td>NaN</td>\n",
       "    </tr>\n",
       "    <tr>\n",
       "      <th>17</th>\n",
       "      <td>NaN</td>\n",
       "      <td>NaN</td>\n",
       "      <td>NaN</td>\n",
       "    </tr>\n",
       "    <tr>\n",
       "      <th>...</th>\n",
       "      <td>...</td>\n",
       "      <td>...</td>\n",
       "      <td>...</td>\n",
       "    </tr>\n",
       "    <tr>\n",
       "      <th>55385</th>\n",
       "      <td>NaN</td>\n",
       "      <td>NaN</td>\n",
       "      <td>NaN</td>\n",
       "    </tr>\n",
       "    <tr>\n",
       "      <th>55389</th>\n",
       "      <td>NaN</td>\n",
       "      <td>NaN</td>\n",
       "      <td>NaN</td>\n",
       "    </tr>\n",
       "    <tr>\n",
       "      <th>55392</th>\n",
       "      <td>NaN</td>\n",
       "      <td>NaN</td>\n",
       "      <td>NaN</td>\n",
       "    </tr>\n",
       "    <tr>\n",
       "      <th>55395</th>\n",
       "      <td>Chun Zheng De Xi Hai An</td>\n",
       "      <td>NaN</td>\n",
       "      <td>NaN</td>\n",
       "    </tr>\n",
       "    <tr>\n",
       "      <th>55396</th>\n",
       "      <td>NaN</td>\n",
       "      <td>NaN</td>\n",
       "      <td>NaN</td>\n",
       "    </tr>\n",
       "  </tbody>\n",
       "</table>\n",
       "<p>35072 rows × 3 columns</p>\n",
       "</div>"
      ],
      "text/plain": [
       "                      location  long  lat\n",
       "0             Saltwater Gospel   NaN  NaN\n",
       "1                          NaN   NaN  NaN\n",
       "8                          NaN   NaN  NaN\n",
       "12                <CUR>17k MRR   NaN  NaN\n",
       "17                         NaN   NaN  NaN\n",
       "...                        ...   ...  ...\n",
       "55385                      NaN   NaN  NaN\n",
       "55389                      NaN   NaN  NaN\n",
       "55392                      NaN   NaN  NaN\n",
       "55395  Chun Zheng De Xi Hai An   NaN  NaN\n",
       "55396                      NaN   NaN  NaN\n",
       "\n",
       "[35072 rows x 3 columns]"
      ]
     },
     "execution_count": 33,
     "metadata": {},
     "output_type": "execute_result"
    }
   ],
   "source": [
    "coord_df[coord_df[\"long\"].isna()]"
   ]
  },
  {
   "cell_type": "code",
   "execution_count": 34,
   "id": "ce2383af",
   "metadata": {},
   "outputs": [],
   "source": [
    "coord_df.to_csv(\"locations_tweets.csv\")"
   ]
  },
  {
   "cell_type": "code",
   "execution_count": 48,
   "id": "50dcdbf4",
   "metadata": {},
   "outputs": [],
   "source": [
    "import time\n",
    "\n",
    "time.sleep(1)"
   ]
  },
  {
   "cell_type": "code",
   "execution_count": 49,
   "id": "d572037c",
   "metadata": {},
   "outputs": [
    {
     "ename": "ValueError",
     "evalue": "Coords are not within the world's geographical boundary",
     "output_type": "error",
     "traceback": [
      "\u001b[0;31m---------------------------------------------------------------------------\u001b[0m",
      "\u001b[0;31mValueError\u001b[0m                                Traceback (most recent call last)",
      "Cell \u001b[0;32mIn[49], line 17\u001b[0m\n\u001b[1;32m     14\u001b[0m long \u001b[38;5;241m=\u001b[39m coord_df\u001b[38;5;241m.\u001b[39miloc[i][\u001b[38;5;124m\"\u001b[39m\u001b[38;5;124mlong\u001b[39m\u001b[38;5;124m\"\u001b[39m]\n\u001b[1;32m     15\u001b[0m lat \u001b[38;5;241m=\u001b[39m coord_df\u001b[38;5;241m.\u001b[39miloc[i][\u001b[38;5;124m\"\u001b[39m\u001b[38;5;124mlat\u001b[39m\u001b[38;5;124m\"\u001b[39m]\n\u001b[0;32m---> 17\u001b[0m location \u001b[38;5;241m=\u001b[39m \u001b[43mgeocoder\u001b[49m\u001b[38;5;241;43m.\u001b[39;49m\u001b[43mosm\u001b[49m\u001b[43m(\u001b[49m\u001b[43m[\u001b[49m\u001b[43mlat\u001b[49m\u001b[43m,\u001b[49m\u001b[43m \u001b[49m\u001b[43mlong\u001b[49m\u001b[43m]\u001b[49m\u001b[43m,\u001b[49m\u001b[43m \u001b[49m\u001b[43mmethod\u001b[49m\u001b[38;5;241;43m=\u001b[39;49m\u001b[38;5;124;43m'\u001b[39;49m\u001b[38;5;124;43mreverse\u001b[39;49m\u001b[38;5;124;43m'\u001b[39;49m\u001b[43m)\u001b[49m\n\u001b[1;32m     19\u001b[0m city_arr\u001b[38;5;241m.\u001b[39mappend(location\u001b[38;5;241m.\u001b[39mcity)\n\u001b[1;32m     20\u001b[0m state_arr\u001b[38;5;241m.\u001b[39mappend(location\u001b[38;5;241m.\u001b[39mstate)\n",
      "File \u001b[0;32m~/.pyenv/versions/project_env/lib/python3.10/site-packages/geocoder/api.py:458\u001b[0m, in \u001b[0;36mosm\u001b[0;34m(location, **kwargs)\u001b[0m\n\u001b[1;32m    451\u001b[0m \u001b[38;5;28;01mdef\u001b[39;00m \u001b[38;5;21mosm\u001b[39m(location, \u001b[38;5;241m*\u001b[39m\u001b[38;5;241m*\u001b[39mkwargs):\n\u001b[1;32m    452\u001b[0m \u001b[38;5;250m    \u001b[39m\u001b[38;5;124;03m\"\"\"OSM Provider\u001b[39;00m\n\u001b[1;32m    453\u001b[0m \n\u001b[1;32m    454\u001b[0m \u001b[38;5;124;03m    :param ``location``: Your search location you want geocoded.\u001b[39;00m\n\u001b[1;32m    455\u001b[0m \u001b[38;5;124;03m    :param ``url``: Custom OSM Server URL location\u001b[39;00m\n\u001b[1;32m    456\u001b[0m \u001b[38;5;124;03m               (ex: http://nominatim.openstreetmap.org/search)\u001b[39;00m\n\u001b[1;32m    457\u001b[0m \u001b[38;5;124;03m    \"\"\"\u001b[39;00m\n\u001b[0;32m--> 458\u001b[0m     \u001b[38;5;28;01mreturn\u001b[39;00m \u001b[43mget\u001b[49m\u001b[43m(\u001b[49m\u001b[43mlocation\u001b[49m\u001b[43m,\u001b[49m\u001b[43m \u001b[49m\u001b[43mprovider\u001b[49m\u001b[38;5;241;43m=\u001b[39;49m\u001b[38;5;124;43m'\u001b[39;49m\u001b[38;5;124;43mosm\u001b[39;49m\u001b[38;5;124;43m'\u001b[39;49m\u001b[43m,\u001b[49m\u001b[43m \u001b[49m\u001b[38;5;241;43m*\u001b[39;49m\u001b[38;5;241;43m*\u001b[39;49m\u001b[43mkwargs\u001b[49m\u001b[43m)\u001b[49m\n",
      "File \u001b[0;32m~/.pyenv/versions/project_env/lib/python3.10/site-packages/geocoder/api.py:198\u001b[0m, in \u001b[0;36mget\u001b[0;34m(location, **kwargs)\u001b[0m\n\u001b[1;32m    196\u001b[0m     \u001b[38;5;28;01mif\u001b[39;00m method \u001b[38;5;129;01mnot\u001b[39;00m \u001b[38;5;129;01min\u001b[39;00m options[provider]:\n\u001b[1;32m    197\u001b[0m         \u001b[38;5;28;01mraise\u001b[39;00m \u001b[38;5;167;01mValueError\u001b[39;00m(\u001b[38;5;124m\"\u001b[39m\u001b[38;5;124mInvalid method\u001b[39m\u001b[38;5;124m\"\u001b[39m)\n\u001b[0;32m--> 198\u001b[0m \u001b[38;5;28;01mreturn\u001b[39;00m \u001b[43moptions\u001b[49m\u001b[43m[\u001b[49m\u001b[43mprovider\u001b[49m\u001b[43m]\u001b[49m\u001b[43m[\u001b[49m\u001b[43mmethod\u001b[49m\u001b[43m]\u001b[49m\u001b[43m(\u001b[49m\u001b[43mlocation\u001b[49m\u001b[43m,\u001b[49m\u001b[43m \u001b[49m\u001b[38;5;241;43m*\u001b[39;49m\u001b[38;5;241;43m*\u001b[39;49m\u001b[43mkwargs\u001b[49m\u001b[43m)\u001b[49m\n",
      "File \u001b[0;32m~/.pyenv/versions/project_env/lib/python3.10/site-packages/geocoder/base.py:395\u001b[0m, in \u001b[0;36mMultipleResultsQuery.__init__\u001b[0;34m(self, location, **kwargs)\u001b[0m\n\u001b[1;32m    392\u001b[0m \u001b[38;5;28mself\u001b[39m\u001b[38;5;241m.\u001b[39mheaders\u001b[38;5;241m.\u001b[39mupdate(kwargs\u001b[38;5;241m.\u001b[39mget(\u001b[38;5;124m'\u001b[39m\u001b[38;5;124mheaders\u001b[39m\u001b[38;5;124m'\u001b[39m, {}))\n\u001b[1;32m    393\u001b[0m \u001b[38;5;66;03m# params can be overriden in _build_params\u001b[39;00m\n\u001b[1;32m    394\u001b[0m \u001b[38;5;66;03m# it is an OrderedDict in order to preserve the order of the url query parameters\u001b[39;00m\n\u001b[0;32m--> 395\u001b[0m \u001b[38;5;28mself\u001b[39m\u001b[38;5;241m.\u001b[39mparams \u001b[38;5;241m=\u001b[39m OrderedDict(\u001b[38;5;28;43mself\u001b[39;49m\u001b[38;5;241;43m.\u001b[39;49m\u001b[43m_build_params\u001b[49m\u001b[43m(\u001b[49m\u001b[43mlocation\u001b[49m\u001b[43m,\u001b[49m\u001b[43m \u001b[49m\u001b[43mprovider_key\u001b[49m\u001b[43m,\u001b[49m\u001b[43m \u001b[49m\u001b[38;5;241;43m*\u001b[39;49m\u001b[38;5;241;43m*\u001b[39;49m\u001b[43mkwargs\u001b[49m\u001b[43m)\u001b[49m)\n\u001b[1;32m    396\u001b[0m \u001b[38;5;28mself\u001b[39m\u001b[38;5;241m.\u001b[39mparams\u001b[38;5;241m.\u001b[39mupdate(kwargs\u001b[38;5;241m.\u001b[39mget(\u001b[38;5;124m'\u001b[39m\u001b[38;5;124mparams\u001b[39m\u001b[38;5;124m'\u001b[39m, {}))\n\u001b[1;32m    398\u001b[0m \u001b[38;5;66;03m# results of query (set by _connect)\u001b[39;00m\n",
      "File \u001b[0;32m~/.pyenv/versions/project_env/lib/python3.10/site-packages/geocoder/osm_reverse.py:25\u001b[0m, in \u001b[0;36mOsmReverse._build_params\u001b[0;34m(self, location, provider_key, **kwargs)\u001b[0m\n\u001b[1;32m     23\u001b[0m \u001b[38;5;28;01mdef\u001b[39;00m \u001b[38;5;21m_build_params\u001b[39m(\u001b[38;5;28mself\u001b[39m, location, provider_key, \u001b[38;5;241m*\u001b[39m\u001b[38;5;241m*\u001b[39mkwargs):\n\u001b[1;32m     24\u001b[0m     params \u001b[38;5;241m=\u001b[39m {\n\u001b[0;32m---> 25\u001b[0m         \u001b[38;5;124m'\u001b[39m\u001b[38;5;124mq\u001b[39m\u001b[38;5;124m'\u001b[39m: \u001b[38;5;28mstr\u001b[39m(\u001b[43mLocation\u001b[49m\u001b[43m(\u001b[49m\u001b[43mlocation\u001b[49m\u001b[43m)\u001b[49m),\n\u001b[1;32m     26\u001b[0m         \u001b[38;5;124m'\u001b[39m\u001b[38;5;124mformat\u001b[39m\u001b[38;5;124m'\u001b[39m: \u001b[38;5;124m'\u001b[39m\u001b[38;5;124mjsonv2\u001b[39m\u001b[38;5;124m'\u001b[39m,\n\u001b[1;32m     27\u001b[0m         \u001b[38;5;124m'\u001b[39m\u001b[38;5;124maddressdetails\u001b[39m\u001b[38;5;124m'\u001b[39m: \u001b[38;5;241m1\u001b[39m,\n\u001b[1;32m     28\u001b[0m         \u001b[38;5;124m'\u001b[39m\u001b[38;5;124mlimit\u001b[39m\u001b[38;5;124m'\u001b[39m: kwargs\u001b[38;5;241m.\u001b[39mget(\u001b[38;5;124m'\u001b[39m\u001b[38;5;124mlimit\u001b[39m\u001b[38;5;124m'\u001b[39m, \u001b[38;5;241m1\u001b[39m)\n\u001b[1;32m     29\u001b[0m     }\n\u001b[1;32m     30\u001b[0m     \u001b[38;5;28;01mif\u001b[39;00m(\u001b[38;5;124m'\u001b[39m\u001b[38;5;124mlang_code\u001b[39m\u001b[38;5;124m'\u001b[39m \u001b[38;5;129;01min\u001b[39;00m kwargs):\n\u001b[1;32m     31\u001b[0m         params[\u001b[38;5;124m'\u001b[39m\u001b[38;5;124maccept-language\u001b[39m\u001b[38;5;124m'\u001b[39m] \u001b[38;5;241m=\u001b[39m kwargs\u001b[38;5;241m.\u001b[39mget(\u001b[38;5;124m'\u001b[39m\u001b[38;5;124mlang_code\u001b[39m\u001b[38;5;124m'\u001b[39m)\n",
      "File \u001b[0;32m~/.pyenv/versions/project_env/lib/python3.10/site-packages/geocoder/location.py:22\u001b[0m, in \u001b[0;36mLocation.__init__\u001b[0;34m(self, location, **kwargs)\u001b[0m\n\u001b[1;32m     20\u001b[0m \u001b[38;5;28mself\u001b[39m\u001b[38;5;241m.\u001b[39mlocation \u001b[38;5;241m=\u001b[39m location\n\u001b[1;32m     21\u001b[0m \u001b[38;5;28mself\u001b[39m\u001b[38;5;241m.\u001b[39mkwargs \u001b[38;5;241m=\u001b[39m kwargs\n\u001b[0;32m---> 22\u001b[0m \u001b[38;5;28;43mself\u001b[39;49m\u001b[38;5;241;43m.\u001b[39;49m\u001b[43m_check_input\u001b[49m\u001b[43m(\u001b[49m\u001b[43mlocation\u001b[49m\u001b[43m)\u001b[49m\n",
      "File \u001b[0;32m~/.pyenv/versions/project_env/lib/python3.10/site-packages/geocoder/location.py:53\u001b[0m, in \u001b[0;36mLocation._check_input\u001b[0;34m(self, location)\u001b[0m\n\u001b[1;32m     51\u001b[0m \u001b[38;5;66;03m# Checking for List of Tuple\u001b[39;00m\n\u001b[1;32m     52\u001b[0m \u001b[38;5;28;01melif\u001b[39;00m \u001b[38;5;28misinstance\u001b[39m(location, (\u001b[38;5;28mlist\u001b[39m, \u001b[38;5;28mtuple\u001b[39m)):\n\u001b[0;32m---> 53\u001b[0m     \u001b[38;5;28;43mself\u001b[39;49m\u001b[38;5;241;43m.\u001b[39;49m\u001b[43m_check_for_list\u001b[49m\u001b[43m(\u001b[49m\u001b[43mlocation\u001b[49m\u001b[43m)\u001b[49m\n\u001b[1;32m     55\u001b[0m \u001b[38;5;66;03m# Checking for Dictionary\u001b[39;00m\n\u001b[1;32m     56\u001b[0m \u001b[38;5;28;01melif\u001b[39;00m \u001b[38;5;28misinstance\u001b[39m(location, \u001b[38;5;28mdict\u001b[39m):\n",
      "File \u001b[0;32m~/.pyenv/versions/project_env/lib/python3.10/site-packages/geocoder/location.py:88\u001b[0m, in \u001b[0;36mLocation._check_for_list\u001b[0;34m(self, location)\u001b[0m\n\u001b[1;32m     86\u001b[0m         \u001b[38;5;28;01mreturn\u001b[39;00m \u001b[38;5;28mself\u001b[39m\u001b[38;5;241m.\u001b[39mlat, \u001b[38;5;28mself\u001b[39m\u001b[38;5;241m.\u001b[39mlng\n\u001b[1;32m     87\u001b[0m     \u001b[38;5;28;01melse\u001b[39;00m:\n\u001b[0;32m---> 88\u001b[0m         \u001b[38;5;28;01mraise\u001b[39;00m \u001b[38;5;167;01mValueError\u001b[39;00m(\n\u001b[1;32m     89\u001b[0m             \u001b[38;5;124m\"\u001b[39m\u001b[38;5;124mCoords are not within the world\u001b[39m\u001b[38;5;124m'\u001b[39m\u001b[38;5;124ms geographical boundary\u001b[39m\u001b[38;5;124m\"\u001b[39m)\n\u001b[1;32m     90\u001b[0m \u001b[38;5;28;01melse\u001b[39;00m:\n\u001b[1;32m     91\u001b[0m     \u001b[38;5;28;01mraise\u001b[39;00m \u001b[38;5;167;01mValueError\u001b[39;00m(\u001b[38;5;124m\"\u001b[39m\u001b[38;5;124mCoordinates must be numbers\u001b[39m\u001b[38;5;124m\"\u001b[39m)\n",
      "\u001b[0;31mValueError\u001b[0m: Coords are not within the world's geographical boundary"
     ]
    }
   ],
   "source": [
    "city_arr = []\n",
    "state_arr = []\n",
    "country_arr = []\n",
    "\n",
    "for i in range(len(coord_df)):\n",
    "    \n",
    "    if coord_df.iloc[i][\"long\"] == None:\n",
    "        city_arr.append(None)\n",
    "        state_arr.append(None)\n",
    "        country_arr.append(None)\n",
    "        \n",
    "    else:\n",
    "        \n",
    "        long = coord_df.iloc[i][\"long\"]\n",
    "        lat = coord_df.iloc[i][\"lat\"]\n",
    "        \n",
    "        try:\n",
    "            location = geocoder.osm([lat, long], method='reverse')\n",
    "        \n",
    "            city_arr.append(location.city)\n",
    "            state_arr.append(location.state)\n",
    "            country_arr.append(location.country)\n",
    "        \n",
    "        except:\n",
    "            city_arr.append(None)\n",
    "            state_arr.append(None)\n",
    "            country_arr.append(None)\n",
    "\n",
    "        "
   ]
  },
  {
   "cell_type": "code",
   "execution_count": null,
   "id": "4560ece7",
   "metadata": {},
   "outputs": [],
   "source": []
  },
  {
   "cell_type": "code",
   "execution_count": null,
   "id": "c3838546",
   "metadata": {},
   "outputs": [],
   "source": []
  },
  {
   "cell_type": "code",
   "execution_count": 43,
   "id": "c5955e7c",
   "metadata": {},
   "outputs": [
    {
     "name": "stdout",
     "output_type": "stream",
     "text": [
      "City: Seattle\n",
      "City: Washington\n",
      "Country: United States\n"
     ]
    }
   ],
   "source": [
    "import geocoder\n",
    "import reverse_geocode as rg\n",
    "\n",
    "# Example latitude and longitude coordinates\n",
    "latitude = 47.6062\n",
    "longitude = -122.3321\n",
    "\n",
    "# Use geocoder to get the city and country names\n",
    "location = geocoder.osm([latitude, longitude], method='reverse')\n",
    "\n",
    "# Use reverse_geocode to get the state name\n",
    "# state = reverse_geocode(latitude, longitude)[0]['state']\n",
    "\n",
    "# Print the results\n",
    "print('City:', location.city)\n",
    "print('City:', location.state)\n",
    "print('Country:', location.country)\n",
    "location.\n",
    "# print('State:', state)"
   ]
  },
  {
   "cell_type": "code",
   "execution_count": 44,
   "id": "4169c480",
   "metadata": {},
   "outputs": [
    {
     "ename": "FileNotFoundError",
     "evalue": "[Errno 2] No such file or directory: '/Users/sreevaatsav/.pyenv/versions/project_env/lib/python3.10/site-packages/reverse_geocode/countries.csv'",
     "output_type": "error",
     "traceback": [
      "\u001b[0;31m---------------------------------------------------------------------------\u001b[0m",
      "\u001b[0;31mFileNotFoundError\u001b[0m                         Traceback (most recent call last)",
      "Cell \u001b[0;32mIn[44], line 1\u001b[0m\n\u001b[0;32m----> 1\u001b[0m \u001b[43mrg\u001b[49m\u001b[38;5;241;43m.\u001b[39;49m\u001b[43msearch\u001b[49m\u001b[43m(\u001b[49m\u001b[43m(\u001b[49m\u001b[38;5;241;43m47.6062\u001b[39;49m\u001b[43m,\u001b[49m\u001b[43m \u001b[49m\u001b[38;5;241;43m-\u001b[39;49m\u001b[38;5;241;43m122.3321\u001b[39;49m\u001b[43m)\u001b[49m\u001b[43m)\u001b[49m\n",
      "File \u001b[0;32m~/.pyenv/versions/project_env/lib/python3.10/site-packages/reverse_geocode/__init__.py:121\u001b[0m, in \u001b[0;36msearch\u001b[0;34m(coordinates)\u001b[0m\n",
      "File \u001b[0;32m~/.pyenv/versions/project_env/lib/python3.10/site-packages/reverse_geocode/__init__.py:25\u001b[0m, in \u001b[0;36mgetinstance\u001b[0;34m()\u001b[0m\n",
      "File \u001b[0;32m~/.pyenv/versions/project_env/lib/python3.10/site-packages/reverse_geocode/__init__.py:36\u001b[0m, in \u001b[0;36m__init__\u001b[0;34m(self, geocode_filename, country_filename)\u001b[0m\n",
      "File \u001b[0;32m~/.pyenv/versions/project_env/lib/python3.10/site-packages/reverse_geocode/__init__.py:43\u001b[0m, in \u001b[0;36mload_countries\u001b[0;34m(self, country_filename)\u001b[0m\n",
      "\u001b[0;31mFileNotFoundError\u001b[0m: [Errno 2] No such file or directory: '/Users/sreevaatsav/.pyenv/versions/project_env/lib/python3.10/site-packages/reverse_geocode/countries.csv'"
     ]
    }
   ],
   "source": [
    "# rg.search((47.6062, -122.3321))"
   ]
  },
  {
   "cell_type": "code",
   "execution_count": 45,
   "id": "f45e434b",
   "metadata": {},
   "outputs": [
    {
     "data": {
      "text/plain": [
       "[{'lat': '47.60621',\n",
       "  'lon': '-122.33207',\n",
       "  'name': 'Seattle',\n",
       "  'admin1': 'Washington',\n",
       "  'admin2': 'King County',\n",
       "  'cc': 'US'},\n",
       " {'lat': '51.51116',\n",
       "  'lon': '-0.18426',\n",
       "  'name': 'Bayswater',\n",
       "  'admin1': 'England',\n",
       "  'admin2': 'Greater London',\n",
       "  'cc': 'GB'},\n",
       " {'lat': '9.93988',\n",
       "  'lon': '76.26022',\n",
       "  'name': 'Cochin',\n",
       "  'admin1': 'Kerala',\n",
       "  'admin2': 'Ernakulam',\n",
       "  'cc': 'IN'},\n",
       " {'lat': '37.38605',\n",
       "  'lon': '-122.08385',\n",
       "  'name': 'Mountain View',\n",
       "  'admin1': 'California',\n",
       "  'admin2': 'Santa Clara County',\n",
       "  'cc': 'US'}]"
      ]
     },
     "execution_count": 45,
     "metadata": {},
     "output_type": "execute_result"
    }
   ],
   "source": [
    "import reverse_geocoder as rg\n",
    "coordinates = (47.6062, -122.3321),(51.5214588,-0.1729636),(9.936033, 76.259952),(37.38605,-122.08385)\n",
    "\n",
    "rg.search(coordinates)"
   ]
  },
  {
   "cell_type": "code",
   "execution_count": null,
   "id": "3185d868",
   "metadata": {},
   "outputs": [],
   "source": []
  },
  {
   "cell_type": "code",
   "execution_count": null,
   "id": "ac1ddcf5",
   "metadata": {},
   "outputs": [],
   "source": []
  }
 ],
 "metadata": {
  "kernelspec": {
   "display_name": "Python (myenv)",
   "language": "python",
   "name": "my_project_env"
  },
  "language_info": {
   "codemirror_mode": {
    "name": "ipython",
    "version": 3
   },
   "file_extension": ".py",
   "mimetype": "text/x-python",
   "name": "python",
   "nbconvert_exporter": "python",
   "pygments_lexer": "ipython3",
   "version": "3.10.9"
  }
 },
 "nbformat": 4,
 "nbformat_minor": 5
}
